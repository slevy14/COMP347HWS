{
  "nbformat": 4,
  "nbformat_minor": 0,
  "metadata": {
    "colab": {
      "provenance": [],
      "authorship_tag": "ABX9TyPfRkwWEnoGR3IJ1ZlAQ/dv"
    },
    "kernelspec": {
      "name": "python3",
      "display_name": "Python 3"
    },
    "language_info": {
      "name": "python"
    }
  },
  "cells": [
    {
      "cell_type": "markdown",
      "source": [
        "# Homework 3"
      ],
      "metadata": {
        "id": "7i0_yyYJ-Jxr"
      }
    },
    {
      "cell_type": "markdown",
      "source": [
        "### 1. Blending\n",
        "\n"
      ],
      "metadata": {
        "id": "230gaatR-RDj"
      }
    },
    {
      "cell_type": "code",
      "execution_count": null,
      "metadata": {
        "id": "FN6TN-UU93JZ"
      },
      "outputs": [],
      "source": []
    }
  ]
}